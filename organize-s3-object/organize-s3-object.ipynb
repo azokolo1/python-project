{
 "cells": [
  {
   "cell_type": "code",
   "execution_count": 68,
   "id": "36ea1660",
   "metadata": {},
   "outputs": [],
   "source": [
    "import boto3\n",
    "from datetime import datetime"
   ]
  },
  {
   "cell_type": "code",
   "execution_count": 69,
   "id": "478b29c3",
   "metadata": {},
   "outputs": [],
   "source": [
    "today = datetime.today()"
   ]
  },
  {
   "cell_type": "code",
   "execution_count": 70,
   "id": "35146127",
   "metadata": {},
   "outputs": [],
   "source": [
    "todays_date = today.strftime(\"%Y%m%d\")"
   ]
  },
  {
   "cell_type": "code",
   "execution_count": 71,
   "id": "d82c346f",
   "metadata": {},
   "outputs": [],
   "source": [
    "s3_client = boto3.client('s3')"
   ]
  },
  {
   "cell_type": "code",
   "execution_count": 72,
   "id": "e0fc3f68",
   "metadata": {},
   "outputs": [],
   "source": [
    "bucket_name = \"trainium-organize-s3-object\""
   ]
  },
  {
   "cell_type": "code",
   "execution_count": 73,
   "id": "4b9f87e5",
   "metadata": {},
   "outputs": [],
   "source": [
    "list_objects_response = s3_client.list_objects_v2(Bucket=bucket_name)"
   ]
  },
  {
   "cell_type": "code",
   "execution_count": 74,
   "id": "f91a7194",
   "metadata": {},
   "outputs": [],
   "source": [
    "get_contents = list_objects_response.get(\"Contents\")"
   ]
  },
  {
   "cell_type": "code",
   "execution_count": 75,
   "id": "868c91e6",
   "metadata": {},
   "outputs": [],
   "source": [
    "get_all_s3_object_and_folder_names = []\n",
    "\n",
    "for item in get_contents:\n",
    "    s3_object_name = item.get(\"Key\")\n",
    "\n",
    "    get_all_s3_object_and_folder_names.append(s3_object_name)"
   ]
  },
  {
   "cell_type": "code",
   "execution_count": 76,
   "id": "5d1ef784",
   "metadata": {},
   "outputs": [],
   "source": [
    "directory_name = todays_date + \"/\""
   ]
  },
  {
   "cell_type": "code",
   "execution_count": 77,
   "id": "316211d8",
   "metadata": {},
   "outputs": [],
   "source": [
    "if directory_name not in get_all_s3_object_and_folder_names:\n",
    "    s3_client.put_object(Bucket=bucket_name, Key=(directory_name))"
   ]
  },
  {
   "cell_type": "code",
   "execution_count": 78,
   "id": "6ccbaaef",
   "metadata": {},
   "outputs": [],
   "source": [
    "for item in get_contents:\n",
    "    object_creation_date = item.get(\"LastModified\").strftime(\"%Y%m%d\") + \"/\"\n",
    "    object_name = item.get(\"Key\")\n",
    "\n",
    "    if object_creation_date == directory_name and \"/\" not in object_name:\n",
    "        s3_client.copy_object(Bucket=bucket_name, CopySource=bucket_name+\"/\"+object_name, Key=directory_name+object_name)\n",
    "\n",
    "        s3_client.delete_object(Bucket=bucket_name, Key=object_name)"
   ]
  }
 ],
 "metadata": {
  "kernelspec": {
   "display_name": "Python 3",
   "language": "python",
   "name": "python3"
  },
  "language_info": {
   "codemirror_mode": {
    "name": "ipython",
    "version": 3
   },
   "file_extension": ".py",
   "mimetype": "text/x-python",
   "name": "python",
   "nbconvert_exporter": "python",
   "pygments_lexer": "ipython3",
   "version": "3.13.3"
  }
 },
 "nbformat": 4,
 "nbformat_minor": 5
}
